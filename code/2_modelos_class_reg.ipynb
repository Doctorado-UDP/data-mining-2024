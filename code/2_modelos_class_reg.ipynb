{
 "cells": [
  {
   "cell_type": "markdown",
   "id": "cbe467db-bf81-49af-8437-1fdba1e98e22",
   "metadata": {},
   "source": [
    "# Demostración Modelos de Clasificación y Regresión\n",
    "## Data Mining - Doctorado UDP 2024\n",
    "**Bastián González-Bustamante** \\\n",
    "Octubre 2024"
   ]
  },
  {
   "cell_type": "code",
   "execution_count": 6,
   "id": "fa518525-00ef-42b3-b2d2-42896b413f11",
   "metadata": {},
   "outputs": [],
   "source": [
    "## Importar librerías necesarias\n",
    "import numpy as np\n",
    "import pandas as pd\n",
    "from sklearn.datasets import fetch_california_housing\n",
    "from sklearn.model_selection import train_test_split\n",
    "from sklearn.preprocessing import StandardScaler, KBinsDiscretizer\n",
    "from sklearn.naive_bayes import GaussianNB\n",
    "from sklearn.svm import SVC, SVR\n",
    "from sklearn.ensemble import RandomForestRegressor, RandomForestClassifier\n",
    "import xgboost as xgb\n",
    "from sklearn.metrics import (\n",
    "    mean_squared_error, mean_absolute_error, r2_score,\n",
    "    accuracy_score, precision_score, recall_score, f1_score, classification_report\n",
    ")\n",
    "import warnings"
   ]
  },
  {
   "cell_type": "code",
   "execution_count": 7,
   "id": "d02d2392-7d1e-454b-8f3e-6f109a593d5c",
   "metadata": {},
   "outputs": [],
   "source": [
    "## Ignorar warnings para una salida más limpia\n",
    "warnings.filterwarnings('ignore')"
   ]
  },
  {
   "cell_type": "markdown",
   "id": "54946f02-6b8f-440c-a066-b19c16d6b97f",
   "metadata": {},
   "source": [
    "## Cargar el dataset (California Housing)"
   ]
  },
  {
   "cell_type": "code",
   "execution_count": 8,
   "id": "b0ee2db9-5ca7-4f54-a432-3ebdc3472cab",
   "metadata": {},
   "outputs": [],
   "source": [
    "california = fetch_california_housing()\n",
    "X = pd.DataFrame(california.data, columns=california.feature_names)\n",
    "y = pd.Series(california.target, name='MedHouseVal')  # Valor medio de las viviendas"
   ]
  },
  {
   "cell_type": "code",
   "execution_count": 9,
   "id": "a8e069b6-3dd0-4465-99f5-d8709484d409",
   "metadata": {},
   "outputs": [
    {
     "name": "stdout",
     "output_type": "stream",
     "text": [
      "   MedInc  HouseAge  AveRooms  AveBedrms  Population  AveOccup  Latitude  \\\n",
      "0  8.3252      41.0  6.984127   1.023810       322.0  2.555556     37.88   \n",
      "1  8.3014      21.0  6.238137   0.971880      2401.0  2.109842     37.86   \n",
      "2  7.2574      52.0  8.288136   1.073446       496.0  2.802260     37.85   \n",
      "3  5.6431      52.0  5.817352   1.073059       558.0  2.547945     37.85   \n",
      "4  3.8462      52.0  6.281853   1.081081       565.0  2.181467     37.85   \n",
      "\n",
      "   Longitude  \n",
      "0    -122.23  \n",
      "1    -122.22  \n",
      "2    -122.24  \n",
      "3    -122.25  \n",
      "4    -122.25  \n"
     ]
    }
   ],
   "source": [
    "# Inspección\n",
    "print(X.head())"
   ]
  },
  {
   "cell_type": "code",
   "execution_count": 5,
   "id": "d55f5433-fe2b-4a4f-8c7e-344327a198d4",
   "metadata": {},
   "outputs": [
    {
     "name": "stdout",
     "output_type": "stream",
     "text": [
      "0    4.526\n",
      "1    3.585\n",
      "2    3.521\n",
      "3    3.413\n",
      "4    3.422\n",
      "Name: MedHouseVal, dtype: float64\n"
     ]
    }
   ],
   "source": [
    "# Inspección\n",
    "print(y.head())"
   ]
  },
  {
   "cell_type": "markdown",
   "id": "f27b1717-1280-48ea-8de2-24ca891cf040",
   "metadata": {},
   "source": [
    "## División de los datos en entrenamiento y prueba"
   ]
  },
  {
   "cell_type": "code",
   "execution_count": 10,
   "id": "3c3ed0c3-394d-4261-846a-6f6465985a61",
   "metadata": {},
   "outputs": [],
   "source": [
    "X_train, X_test, y_train, y_test = train_test_split(\n",
    "    X, y, test_size=0.2, random_state=86\n",
    ")"
   ]
  },
  {
   "cell_type": "code",
   "execution_count": 11,
   "id": "c1479bb8-c299-4070-b540-8249afa698d7",
   "metadata": {},
   "outputs": [],
   "source": [
    "## Escalado de características (para mejorar rendimiento de SVM)\n",
    "scaler = StandardScaler()\n",
    "X_train_scaled = scaler.fit_transform(X_train)\n",
    "X_test_scaled = scaler.transform(X_test)"
   ]
  },
  {
   "cell_type": "code",
   "execution_count": 12,
   "id": "b2e811fe-a5c4-45f6-8be7-c25651d52603",
   "metadata": {},
   "outputs": [],
   "source": [
    "## Preparación para clasificación\n",
    "## Discretizar la variable objetivo en 3 categorías: Bajo, Medio, Alto\n",
    "discretizer = KBinsDiscretizer(n_bins=3, encode='ordinal', strategy='quantile')\n",
    "y_train_class = discretizer.fit_transform(y_train.values.reshape(-1, 1)).astype(int).flatten()\n",
    "y_test_class = discretizer.transform(y_test.values.reshape(-1, 1)).astype(int).flatten()"
   ]
  },
  {
   "cell_type": "code",
   "execution_count": 13,
   "id": "0886f52b-62c2-437d-abf0-f686c2b747fd",
   "metadata": {},
   "outputs": [],
   "source": [
    "## Función para imprimir métricas de clasificación\n",
    "def print_classification_metrics(y_true, y_pred, model_name):\n",
    "    print(f\"--- {model_name} ---\")\n",
    "    print(f\"Accuracy: {accuracy_score(y_true, y_pred):.4f}\")\n",
    "    print(f\"Precision: {precision_score(y_true, y_pred, average='weighted'):.4f}\")\n",
    "    print(f\"Recall: {recall_score(y_true, y_pred, average='weighted'):.4f}\")\n",
    "    print(f\"F1-Score: {f1_score(y_true, y_pred, average='weighted'):.4f}\")\n",
    "    print(\"Classification Report:\")\n",
    "    print(classification_report(y_true, y_pred))\n",
    "    print(\"\\n\")"
   ]
  },
  {
   "cell_type": "markdown",
   "id": "35e9fbed-8d32-48e0-96e7-229883fbe092",
   "metadata": {},
   "source": [
    "* **Accuracy (exactitud)**.  Fracción de predicciones correctas sobre el total de predicciones realizadas. El accuracy puede ser engañoso, ya que un modelo que simplemente predice la clase mayoritaria puede obtener un alto accuracy sin ser un buen modelo.\n",
    "* **Precision (precisión)**. Fracción de instancias correctamente clasificadas como positivas entre todas las clasificadas como positivas. Es importante cuando el costo de las falsas alarmas (falsos positivos) es alto.\n",
    "* **Recall (Sensibilidad)**. Fracción de instancias positivas correctamente clasificadas por el modelo. Es importante cuando queremos minimizar los falsos negativos (no pasar por alto casos positivos).\n",
    "* **F1-Score**. El F1-Score equilibra la precisión y el recall. Es útil cuando se necesita un equilibrio entre ambas métricas, y es particularmente relevante en conjuntos de datos desequilibrados donde un modelo."
   ]
  },
  {
   "cell_type": "code",
   "execution_count": 14,
   "id": "b906602c-277e-457f-9e5a-a007528ff756",
   "metadata": {},
   "outputs": [],
   "source": [
    "## Función para imprimir métricas de regresión\n",
    "def print_regression_metrics(y_true, y_pred, model_name):\n",
    "    print(f\"--- {model_name} ---\")\n",
    "    print(f\"MSE: {mean_squared_error(y_true, y_pred):.4f}\")\n",
    "    print(f\"RMSE: {np.sqrt(mean_squared_error(y_true, y_pred)):.4f}\")\n",
    "    print(f\"MAE: {mean_absolute_error(y_true, y_pred):.4f}\")\n",
    "    print(f\"R² Score: {r2_score(y_true, y_pred):.4f}\")\n",
    "    print(\"\\n\")"
   ]
  },
  {
   "cell_type": "markdown",
   "id": "20731dcd-b97e-4f0e-91c4-afbb334a5601",
   "metadata": {},
   "source": [
    "* **Mean Squared Error (MSE) - Error Cuadrático Medio**. Promedio de los cuadrados de los errores o diferencias entre los valores reales y las predicciones del modelo. Cuanto más pequeño es el MSE, mejor es el ajuste del modelo.\n",
    "* **Root Mean Squared Error (RMSE) - Raíz del Error Cuadrático Medio.** Es la raíz cuadrada del MSE. Un RMSE más bajo indica un mejor rendimiento.\n",
    "* **Mean Absolute Error (MAE) - Error Absoluto Medio.** Promedio de las diferencias absolutas entre los valores reales y las predicciones. Un MAE más bajo indica que las predicciones del modelo están más cerca de los valores reales.\n",
    "* **R² Score (Coeficiente de Determinación).** Representa la proporción de la varianza total explicada por el modelo. "
   ]
  },
  {
   "cell_type": "markdown",
   "id": "ea2cc84e-35dc-40e9-94cd-0c5b3d86151d",
   "metadata": {},
   "source": [
    "## Naive Bayes (Clasificación)"
   ]
  },
  {
   "cell_type": "code",
   "execution_count": 15,
   "id": "7b3f5a10-cf4c-4484-8498-2dd06368155d",
   "metadata": {},
   "outputs": [],
   "source": [
    "nb = GaussianNB()\n",
    "nb.fit(X_train_scaled, y_train_class)\n",
    "y_pred_nb = nb.predict(X_test_scaled)"
   ]
  },
  {
   "cell_type": "code",
   "execution_count": 16,
   "id": "710effbd-5603-40be-b218-1ee9023a1c8b",
   "metadata": {},
   "outputs": [
    {
     "name": "stdout",
     "output_type": "stream",
     "text": [
      "--- Naive Bayes Clasificación ---\n",
      "Accuracy: 0.5719\n",
      "Precision: 0.6315\n",
      "Recall: 0.5719\n",
      "F1-Score: 0.5629\n",
      "Classification Report:\n",
      "              precision    recall  f1-score   support\n",
      "\n",
      "           0       0.54      0.84      0.66      1414\n",
      "           1       0.46      0.43      0.45      1327\n",
      "           2       0.89      0.43      0.58      1387\n",
      "\n",
      "    accuracy                           0.57      4128\n",
      "   macro avg       0.63      0.57      0.56      4128\n",
      "weighted avg       0.63      0.57      0.56      4128\n",
      "\n",
      "\n",
      "\n"
     ]
    }
   ],
   "source": [
    "# Resultados Naive Bayes\n",
    "print_classification_metrics(y_test_class, y_pred_nb, \"Naive Bayes Clasificación\")"
   ]
  },
  {
   "cell_type": "markdown",
   "id": "128fe78e-7a91-409b-a2f9-df076a0b5d97",
   "metadata": {},
   "source": [
    "## Support Vector Machine (SVM, Regresión)"
   ]
  },
  {
   "cell_type": "code",
   "execution_count": 17,
   "id": "f807ce30-b747-48ec-8716-4b770fd35d35",
   "metadata": {},
   "outputs": [
    {
     "name": "stdout",
     "output_type": "stream",
     "text": [
      "--- SVM Regresión ---\n",
      "MSE: 0.3232\n",
      "RMSE: 0.5685\n",
      "MAE: 0.3853\n",
      "R² Score: 0.7611\n",
      "\n",
      "\n"
     ]
    }
   ],
   "source": [
    "## SVM para Regresión\n",
    "svr = SVR(kernel='rbf')\n",
    "svr.fit(X_train_scaled, y_train)\n",
    "y_pred_svr = svr.predict(X_test_scaled)\n",
    "print_regression_metrics(y_test, y_pred_svr, \"SVM Regresión\")"
   ]
  },
  {
   "cell_type": "markdown",
   "id": "147becf0-3b59-4c1f-8f82-744e0f6c8324",
   "metadata": {},
   "source": [
    "## Support Vector Machine (SVM, Clasificación)"
   ]
  },
  {
   "cell_type": "code",
   "execution_count": 18,
   "id": "cc2ffa61-4e10-4e01-ace4-c79456df9d0b",
   "metadata": {},
   "outputs": [
    {
     "name": "stdout",
     "output_type": "stream",
     "text": [
      "--- SVM Clasificación ---\n",
      "Accuracy: 0.7602\n",
      "Precision: 0.7660\n",
      "Recall: 0.7602\n",
      "F1-Score: 0.7624\n",
      "Classification Report:\n",
      "              precision    recall  f1-score   support\n",
      "\n",
      "           0       0.83      0.78      0.80      1414\n",
      "           1       0.63      0.69      0.66      1327\n",
      "           2       0.83      0.80      0.82      1387\n",
      "\n",
      "    accuracy                           0.76      4128\n",
      "   macro avg       0.76      0.76      0.76      4128\n",
      "weighted avg       0.77      0.76      0.76      4128\n",
      "\n",
      "\n",
      "\n"
     ]
    }
   ],
   "source": [
    "## SVM para Clasificación\n",
    "svc = SVC(kernel='rbf', probability=True)\n",
    "svc.fit(X_train_scaled, y_train_class)\n",
    "y_pred_svc = svc.predict(X_test_scaled)\n",
    "print_classification_metrics(y_test_class, y_pred_svc, \"SVM Clasificación\")"
   ]
  },
  {
   "cell_type": "markdown",
   "id": "b24c2998-350a-4cd7-a199-fa66599334c0",
   "metadata": {},
   "source": [
    "## Random Forest (Regresión)"
   ]
  },
  {
   "cell_type": "code",
   "execution_count": 19,
   "id": "9bc3a4f7-f126-47ef-affa-fb66d2cbbcf9",
   "metadata": {},
   "outputs": [
    {
     "name": "stdout",
     "output_type": "stream",
     "text": [
      "--- Random Forest Regresión (100 árboles) ---\n",
      "MSE: 0.2511\n",
      "RMSE: 0.5011\n",
      "MAE: 0.3283\n",
      "R² Score: 0.8144\n",
      "\n",
      "\n"
     ]
    }
   ],
   "source": [
    "## Random Forest para regresión con 100 árboles\n",
    "rf_reg_100 = RandomForestRegressor(n_estimators=100, random_state=86)\n",
    "rf_reg_100.fit(X_train, y_train)\n",
    "y_pred_rf_reg_100 = rf_reg_100.predict(X_test)\n",
    "print_regression_metrics(y_test, y_pred_rf_reg_100, \"Random Forest Regresión (100 árboles)\")"
   ]
  },
  {
   "cell_type": "code",
   "execution_count": 20,
   "id": "612957ac-e43f-4baf-83e4-cb35587106af",
   "metadata": {},
   "outputs": [
    {
     "name": "stdout",
     "output_type": "stream",
     "text": [
      "--- Random Forest Regresión (200 árboles) ---\n",
      "MSE: 0.2484\n",
      "RMSE: 0.4984\n",
      "MAE: 0.3263\n",
      "R² Score: 0.8164\n",
      "\n",
      "\n"
     ]
    }
   ],
   "source": [
    "## Random Forest para regresión con 200 árboles\n",
    "rf_reg_200 = RandomForestRegressor(n_estimators=200, random_state=86)\n",
    "rf_reg_200.fit(X_train, y_train)\n",
    "y_pred_rf_reg_200 = rf_reg_200.predict(X_test)\n",
    "print_regression_metrics(y_test, y_pred_rf_reg_200, \"Random Forest Regresión (200 árboles)\")"
   ]
  },
  {
   "cell_type": "markdown",
   "id": "3681dc41-a2b0-45d3-a22e-e3af2479ef05",
   "metadata": {},
   "source": [
    "## Random Forest (Clasificación)"
   ]
  },
  {
   "cell_type": "code",
   "execution_count": 21,
   "id": "84afd9d1-218f-4619-b5c5-f2f4865f3c8b",
   "metadata": {},
   "outputs": [
    {
     "name": "stdout",
     "output_type": "stream",
     "text": [
      "--- Random Forest Clasificación (100 árboles) ---\n",
      "Accuracy: 0.8171\n",
      "Precision: 0.8170\n",
      "Recall: 0.8171\n",
      "F1-Score: 0.8169\n",
      "Classification Report:\n",
      "              precision    recall  f1-score   support\n",
      "\n",
      "           0       0.85      0.88      0.86      1414\n",
      "           1       0.73      0.73      0.73      1327\n",
      "           2       0.87      0.84      0.85      1387\n",
      "\n",
      "    accuracy                           0.82      4128\n",
      "   macro avg       0.82      0.82      0.82      4128\n",
      "weighted avg       0.82      0.82      0.82      4128\n",
      "\n",
      "\n",
      "\n"
     ]
    }
   ],
   "source": [
    "## Random Forest para clasificación con 100 árboles\n",
    "rf_class_100 = RandomForestClassifier(n_estimators=100, random_state=86)\n",
    "rf_class_100.fit(X_train, y_train_class)\n",
    "y_pred_rf_class_100 = rf_class_100.predict(X_test)\n",
    "print_classification_metrics(y_test_class, y_pred_rf_class_100, \"Random Forest Clasificación (100 árboles)\")"
   ]
  },
  {
   "cell_type": "code",
   "execution_count": 22,
   "id": "72e491c0-6dc5-482e-8616-9cea512b507c",
   "metadata": {},
   "outputs": [
    {
     "name": "stdout",
     "output_type": "stream",
     "text": [
      "--- Random Forest Clasificación (200 árboles) ---\n",
      "Accuracy: 0.8181\n",
      "Precision: 0.8177\n",
      "Recall: 0.8181\n",
      "F1-Score: 0.8177\n",
      "Classification Report:\n",
      "              precision    recall  f1-score   support\n",
      "\n",
      "           0       0.85      0.88      0.86      1414\n",
      "           1       0.74      0.73      0.73      1327\n",
      "           2       0.86      0.84      0.85      1387\n",
      "\n",
      "    accuracy                           0.82      4128\n",
      "   macro avg       0.82      0.82      0.82      4128\n",
      "weighted avg       0.82      0.82      0.82      4128\n",
      "\n",
      "\n",
      "\n"
     ]
    }
   ],
   "source": [
    "## Random Forest para clasificación con 200 árboles\n",
    "rf_class_200 = RandomForestClassifier(n_estimators=200, random_state=86)\n",
    "rf_class_200.fit(X_train, y_train_class)\n",
    "y_pred_rf_class_200 = rf_class_200.predict(X_test)\n",
    "print_classification_metrics(y_test_class, y_pred_rf_class_200, \"Random Forest Clasificación (200 árboles)\")"
   ]
  },
  {
   "cell_type": "markdown",
   "id": "61881981-7d2d-4479-8bbd-c2110fd1443d",
   "metadata": {},
   "source": [
    "## XGBoost (Regresión)"
   ]
  },
  {
   "cell_type": "code",
   "execution_count": 23,
   "id": "f9732394-04b5-4b74-b241-9ffe404cd752",
   "metadata": {},
   "outputs": [
    {
     "name": "stdout",
     "output_type": "stream",
     "text": [
      "--- XGBoost Regresión ---\n",
      "MSE: 0.2151\n",
      "RMSE: 0.4638\n",
      "MAE: 0.3066\n",
      "R² Score: 0.8410\n",
      "\n",
      "\n"
     ]
    }
   ],
   "source": [
    "## XGBoost para Regresión\n",
    "xg_reg = xgb.XGBRegressor(objective='reg:squarederror', n_estimators=200, random_state=86)\n",
    "xg_reg.fit(X_train, y_train)\n",
    "y_pred_xg_reg = xg_reg.predict(X_test)\n",
    "print_regression_metrics(y_test, y_pred_xg_reg, \"XGBoost Regresión\")"
   ]
  },
  {
   "cell_type": "markdown",
   "id": "fe9ddd07-ee4c-415c-9760-2a13ea4db618",
   "metadata": {},
   "source": [
    "## XGBoost (Clasificación)"
   ]
  },
  {
   "cell_type": "code",
   "execution_count": 24,
   "id": "807c0747-b594-4353-ad23-346a074847a4",
   "metadata": {},
   "outputs": [
    {
     "name": "stdout",
     "output_type": "stream",
     "text": [
      "--- XGBoost Clasificación ---\n",
      "Accuracy: 0.8358\n",
      "Precision: 0.8370\n",
      "Recall: 0.8358\n",
      "F1-Score: 0.8362\n",
      "Classification Report:\n",
      "              precision    recall  f1-score   support\n",
      "\n",
      "           0       0.87      0.88      0.87      1414\n",
      "           1       0.75      0.77      0.76      1327\n",
      "           2       0.89      0.86      0.87      1387\n",
      "\n",
      "    accuracy                           0.84      4128\n",
      "   macro avg       0.84      0.83      0.83      4128\n",
      "weighted avg       0.84      0.84      0.84      4128\n",
      "\n",
      "\n",
      "\n"
     ]
    }
   ],
   "source": [
    "## XGBoost para Clasificación\n",
    "xg_class = xgb.XGBClassifier(n_estimators=200, use_label_encoder=False, eval_metric='mlogloss', random_state=86)\n",
    "xg_class.fit(X_train_scaled, y_train_class)\n",
    "y_pred_xg_class = xg_class.predict(X_test_scaled)\n",
    "print_classification_metrics(y_test_class, y_pred_xg_class, \"XGBoost Clasificación\")"
   ]
  },
  {
   "cell_type": "code",
   "execution_count": null,
   "id": "20ac8841-904f-416d-8af8-58e3a3c1a2a3",
   "metadata": {},
   "outputs": [],
   "source": []
  }
 ],
 "metadata": {
  "kernelspec": {
   "display_name": "Python 3 (ipykernel)",
   "language": "python",
   "name": "python3"
  },
  "language_info": {
   "codemirror_mode": {
    "name": "ipython",
    "version": 3
   },
   "file_extension": ".py",
   "mimetype": "text/x-python",
   "name": "python",
   "nbconvert_exporter": "python",
   "pygments_lexer": "ipython3",
   "version": "3.11.5"
  }
 },
 "nbformat": 4,
 "nbformat_minor": 5
}
