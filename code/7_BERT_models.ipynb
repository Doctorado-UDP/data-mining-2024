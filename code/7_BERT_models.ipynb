{
 "cells": [
  {
   "cell_type": "markdown",
   "id": "2820a095-613a-48f6-8831-89018a1e6b52",
   "metadata": {},
   "source": [
    "# Hugging Face Transformers\n",
    "Bastián González-Bustamante \\\n",
    "Universidad Diego Portales \\\n",
    "Noviembre 2024"
   ]
  },
  {
   "cell_type": "code",
   "execution_count": 24,
   "id": "d80ab8f7-94bc-4a05-8b23-eb2d1a107635",
   "metadata": {},
   "outputs": [],
   "source": [
    "## Dependencies\n",
    "import pandas as pd\n",
    "from datetime import datetime\n",
    "from transformers import pipeline\n",
    "from tqdm import tqdm\n",
    "import os\n",
    "from sklearn.metrics import accuracy_score, precision_score, recall_score, f1_score"
   ]
  },
  {
   "cell_type": "code",
   "execution_count": 2,
   "id": "5276505e-dbb7-41d5-9017-7fe160144fe6",
   "metadata": {},
   "outputs": [
    {
     "data": {
      "application/vnd.jupyter.widget-view+json": {
       "model_id": "b5228a3f4f504fef8ae4256ff618f52d",
       "version_major": 2,
       "version_minor": 0
      },
      "text/plain": [
       "config.json:   0%|          | 0.00/904 [00:00<?, ?B/s]"
      ]
     },
     "metadata": {},
     "output_type": "display_data"
    },
    {
     "data": {
      "application/vnd.jupyter.widget-view+json": {
       "model_id": "65ef8cc5b0144ff8b6b8948c8a29bb39",
       "version_major": 2,
       "version_minor": 0
      },
      "text/plain": [
       "model.safetensors:   0%|          | 0.00/439M [00:00<?, ?B/s]"
      ]
     },
     "metadata": {},
     "output_type": "display_data"
    },
    {
     "data": {
      "application/vnd.jupyter.widget-view+json": {
       "model_id": "dae6c0385a724dad979796cb579c00a0",
       "version_major": 2,
       "version_minor": 0
      },
      "text/plain": [
       "tokenizer_config.json:   0%|          | 0.00/1.24k [00:00<?, ?B/s]"
      ]
     },
     "metadata": {},
     "output_type": "display_data"
    },
    {
     "data": {
      "application/vnd.jupyter.widget-view+json": {
       "model_id": "ebaba7ba048540c58875bfeb8f3e7d4c",
       "version_major": 2,
       "version_minor": 0
      },
      "text/plain": [
       "vocab.txt:   0%|          | 0.00/242k [00:00<?, ?B/s]"
      ]
     },
     "metadata": {},
     "output_type": "display_data"
    },
    {
     "data": {
      "application/vnd.jupyter.widget-view+json": {
       "model_id": "3ce725b338dc43648d66f5709a9777a9",
       "version_major": 2,
       "version_minor": 0
      },
      "text/plain": [
       "tokenizer.json:   0%|          | 0.00/730k [00:00<?, ?B/s]"
      ]
     },
     "metadata": {},
     "output_type": "display_data"
    },
    {
     "data": {
      "application/vnd.jupyter.widget-view+json": {
       "model_id": "3e24783323ca48d2842478996cb6f453",
       "version_major": 2,
       "version_minor": 0
      },
      "text/plain": [
       "special_tokens_map.json:   0%|          | 0.00/695 [00:00<?, ?B/s]"
      ]
     },
     "metadata": {},
     "output_type": "display_data"
    }
   ],
   "source": [
    "## Loading transformer trained on protest event data: F1-Score: 0.849\n",
    "toxic_classifier_1 = pipeline(\"text-classification\", model=\"bgonzalezbustamante/bert-spanish-toxicity\")"
   ]
  },
  {
   "cell_type": "code",
   "execution_count": 4,
   "id": "6fe1a5bc-b441-45f0-9758-40f6472c9662",
   "metadata": {},
   "outputs": [
    {
     "data": {
      "application/vnd.jupyter.widget-view+json": {
       "model_id": "78857ed675e14bfc996c8208fba0ca6c",
       "version_major": 2,
       "version_minor": 0
      },
      "text/plain": [
       "config.json:   0%|          | 0.00/915 [00:00<?, ?B/s]"
      ]
     },
     "metadata": {},
     "output_type": "display_data"
    },
    {
     "data": {
      "application/vnd.jupyter.widget-view+json": {
       "model_id": "7161a5421d3b40c6a75b1645fe804728",
       "version_major": 2,
       "version_minor": 0
      },
      "text/plain": [
       "model.safetensors:   0%|          | 0.00/1.11G [00:00<?, ?B/s]"
      ]
     },
     "metadata": {},
     "output_type": "display_data"
    },
    {
     "data": {
      "application/vnd.jupyter.widget-view+json": {
       "model_id": "921d91cc2c4c4c099acad3ff7b98cd99",
       "version_major": 2,
       "version_minor": 0
      },
      "text/plain": [
       "tokenizer_config.json:   0%|          | 0.00/1.15k [00:00<?, ?B/s]"
      ]
     },
     "metadata": {},
     "output_type": "display_data"
    },
    {
     "data": {
      "application/vnd.jupyter.widget-view+json": {
       "model_id": "5f4c0215504c461ea4072c8a596286b7",
       "version_major": 2,
       "version_minor": 0
      },
      "text/plain": [
       "sentencepiece.bpe.model:   0%|          | 0.00/5.07M [00:00<?, ?B/s]"
      ]
     },
     "metadata": {},
     "output_type": "display_data"
    },
    {
     "data": {
      "application/vnd.jupyter.widget-view+json": {
       "model_id": "c4695d97fe234360ab4deca971a9f8c1",
       "version_major": 2,
       "version_minor": 0
      },
      "text/plain": [
       "tokenizer.json:   0%|          | 0.00/17.1M [00:00<?, ?B/s]"
      ]
     },
     "metadata": {},
     "output_type": "display_data"
    },
    {
     "data": {
      "application/vnd.jupyter.widget-view+json": {
       "model_id": "fb9ea11984f64502afa8c0f41e8e10e3",
       "version_major": 2,
       "version_minor": 0
      },
      "text/plain": [
       "special_tokens_map.json:   0%|          | 0.00/280 [00:00<?, ?B/s]"
      ]
     },
     "metadata": {},
     "output_type": "display_data"
    }
   ],
   "source": [
    "## Loading transformer trained on protest event data: F1-Score: 0.789\n",
    "toxic_classifier_2 = pipeline(\"text-classification\", model=\"bgonzalezbustamante/ft-xlm-roberta-toxicity\")"
   ]
  },
  {
   "cell_type": "code",
   "execution_count": 5,
   "id": "1251692c-3aa3-4de9-8279-e69efdba09cf",
   "metadata": {},
   "outputs": [
    {
     "data": {
      "application/vnd.jupyter.widget-view+json": {
       "model_id": "fe62cf3e429340549ffde4801ce922ab",
       "version_major": 2,
       "version_minor": 0
      },
      "text/plain": [
       "config.json:   0%|          | 0.00/933 [00:00<?, ?B/s]"
      ]
     },
     "metadata": {},
     "output_type": "display_data"
    },
    {
     "data": {
      "application/vnd.jupyter.widget-view+json": {
       "model_id": "e82abb6da34d44cba2020f085f373ac1",
       "version_major": 2,
       "version_minor": 0
      },
      "text/plain": [
       "model.safetensors:   0%|          | 0.00/499M [00:00<?, ?B/s]"
      ]
     },
     "metadata": {},
     "output_type": "display_data"
    },
    {
     "data": {
      "application/vnd.jupyter.widget-view+json": {
       "model_id": "f92304ca46d2436294227d38b9f5e11e",
       "version_major": 2,
       "version_minor": 0
      },
      "text/plain": [
       "tokenizer_config.json:   0%|          | 0.00/1.24k [00:00<?, ?B/s]"
      ]
     },
     "metadata": {},
     "output_type": "display_data"
    },
    {
     "data": {
      "application/vnd.jupyter.widget-view+json": {
       "model_id": "c17e70cf81b84b74954d3dab08962bac",
       "version_major": 2,
       "version_minor": 0
      },
      "text/plain": [
       "vocab.json:   0%|          | 0.00/798k [00:00<?, ?B/s]"
      ]
     },
     "metadata": {},
     "output_type": "display_data"
    },
    {
     "data": {
      "application/vnd.jupyter.widget-view+json": {
       "model_id": "c346a0bb4e1644db9eaf4a958c5a43d3",
       "version_major": 2,
       "version_minor": 0
      },
      "text/plain": [
       "merges.txt:   0%|          | 0.00/456k [00:00<?, ?B/s]"
      ]
     },
     "metadata": {},
     "output_type": "display_data"
    },
    {
     "data": {
      "application/vnd.jupyter.widget-view+json": {
       "model_id": "c1539d9f8f6a4ff58bc4781fd381c75c",
       "version_major": 2,
       "version_minor": 0
      },
      "text/plain": [
       "tokenizer.json:   0%|          | 0.00/3.56M [00:00<?, ?B/s]"
      ]
     },
     "metadata": {},
     "output_type": "display_data"
    },
    {
     "data": {
      "application/vnd.jupyter.widget-view+json": {
       "model_id": "3a85b4cc07fa4f97818b79aae1df250c",
       "version_major": 2,
       "version_minor": 0
      },
      "text/plain": [
       "special_tokens_map.json:   0%|          | 0.00/958 [00:00<?, ?B/s]"
      ]
     },
     "metadata": {},
     "output_type": "display_data"
    }
   ],
   "source": [
    "## Loading transformer trained on protest event data: F1-Score: 0.767 (not recommended)\n",
    "toxic_classifier_3 = pipeline(\"text-classification\", model=\"bgonzalezbustamante/ft-roberta-toxicity\") "
   ]
  },
  {
   "cell_type": "code",
   "execution_count": 8,
   "id": "5be488fe-6163-4d00-acd0-0c059cf8a028",
   "metadata": {},
   "outputs": [
    {
     "data": {
      "text/plain": [
       "<transformers.pipelines.text_classification.TextClassificationPipeline at 0x1e87b45b050>"
      ]
     },
     "execution_count": 8,
     "metadata": {},
     "output_type": "execute_result"
    }
   ],
   "source": [
    "## Load Transformers\n",
    "toxic_classifier_1"
   ]
  },
  {
   "cell_type": "code",
   "execution_count": 11,
   "id": "c6e10eb4-93ce-406a-bedb-e00cb2940ecf",
   "metadata": {},
   "outputs": [
    {
     "data": {
      "text/html": [
       "<div>\n",
       "<style scoped>\n",
       "    .dataframe tbody tr th:only-of-type {\n",
       "        vertical-align: middle;\n",
       "    }\n",
       "\n",
       "    .dataframe tbody tr th {\n",
       "        vertical-align: top;\n",
       "    }\n",
       "\n",
       "    .dataframe thead th {\n",
       "        text-align: right;\n",
       "    }\n",
       "</style>\n",
       "<table border=\"1\" class=\"dataframe\">\n",
       "  <thead>\n",
       "    <tr style=\"text-align: right;\">\n",
       "      <th></th>\n",
       "      <th>id_obs</th>\n",
       "      <th>coder_1</th>\n",
       "      <th>coder_2</th>\n",
       "      <th>consensus</th>\n",
       "      <th>sec_create_1</th>\n",
       "      <th>sec_create_2</th>\n",
       "      <th>sec_review_1</th>\n",
       "      <th>sec_review_2</th>\n",
       "      <th>possibly_sensitive</th>\n",
       "      <th>lang</th>\n",
       "      <th>...</th>\n",
       "      <th>THREAT</th>\n",
       "      <th>date</th>\n",
       "      <th>tox_60</th>\n",
       "      <th>tox_70</th>\n",
       "      <th>tox_80</th>\n",
       "      <th>tox_90</th>\n",
       "      <th>insult_60</th>\n",
       "      <th>insult_70</th>\n",
       "      <th>insult_80</th>\n",
       "      <th>insult_90</th>\n",
       "    </tr>\n",
       "  </thead>\n",
       "  <tbody>\n",
       "    <tr>\n",
       "      <th>0</th>\n",
       "      <td>101238</td>\n",
       "      <td>0</td>\n",
       "      <td>0</td>\n",
       "      <td>1.0</td>\n",
       "      <td>46</td>\n",
       "      <td>28</td>\n",
       "      <td>17</td>\n",
       "      <td>8</td>\n",
       "      <td>False</td>\n",
       "      <td>es</td>\n",
       "      <td>...</td>\n",
       "      <td>NaN</td>\n",
       "      <td>2020-08-17</td>\n",
       "      <td>0</td>\n",
       "      <td>0</td>\n",
       "      <td>0</td>\n",
       "      <td>0</td>\n",
       "      <td>0</td>\n",
       "      <td>0</td>\n",
       "      <td>0</td>\n",
       "      <td>0</td>\n",
       "    </tr>\n",
       "    <tr>\n",
       "      <th>1</th>\n",
       "      <td>119343</td>\n",
       "      <td>0</td>\n",
       "      <td>0</td>\n",
       "      <td>1.0</td>\n",
       "      <td>8</td>\n",
       "      <td>6</td>\n",
       "      <td>0</td>\n",
       "      <td>2</td>\n",
       "      <td>False</td>\n",
       "      <td>es</td>\n",
       "      <td>...</td>\n",
       "      <td>NaN</td>\n",
       "      <td>2020-08-17</td>\n",
       "      <td>0</td>\n",
       "      <td>0</td>\n",
       "      <td>0</td>\n",
       "      <td>0</td>\n",
       "      <td>0</td>\n",
       "      <td>0</td>\n",
       "      <td>0</td>\n",
       "      <td>0</td>\n",
       "    </tr>\n",
       "    <tr>\n",
       "      <th>2</th>\n",
       "      <td>122343</td>\n",
       "      <td>0</td>\n",
       "      <td>0</td>\n",
       "      <td>1.0</td>\n",
       "      <td>8</td>\n",
       "      <td>6</td>\n",
       "      <td>1</td>\n",
       "      <td>0</td>\n",
       "      <td>False</td>\n",
       "      <td>es</td>\n",
       "      <td>...</td>\n",
       "      <td>NaN</td>\n",
       "      <td>2020-08-17</td>\n",
       "      <td>0</td>\n",
       "      <td>0</td>\n",
       "      <td>0</td>\n",
       "      <td>0</td>\n",
       "      <td>0</td>\n",
       "      <td>0</td>\n",
       "      <td>0</td>\n",
       "      <td>0</td>\n",
       "    </tr>\n",
       "    <tr>\n",
       "      <th>3</th>\n",
       "      <td>131878</td>\n",
       "      <td>0</td>\n",
       "      <td>0</td>\n",
       "      <td>1.0</td>\n",
       "      <td>4</td>\n",
       "      <td>52</td>\n",
       "      <td>0</td>\n",
       "      <td>1</td>\n",
       "      <td>False</td>\n",
       "      <td>es</td>\n",
       "      <td>...</td>\n",
       "      <td>NaN</td>\n",
       "      <td>2020-08-17</td>\n",
       "      <td>0</td>\n",
       "      <td>0</td>\n",
       "      <td>0</td>\n",
       "      <td>0</td>\n",
       "      <td>0</td>\n",
       "      <td>0</td>\n",
       "      <td>0</td>\n",
       "      <td>0</td>\n",
       "    </tr>\n",
       "    <tr>\n",
       "      <th>4</th>\n",
       "      <td>132171</td>\n",
       "      <td>0</td>\n",
       "      <td>0</td>\n",
       "      <td>1.0</td>\n",
       "      <td>6</td>\n",
       "      <td>15</td>\n",
       "      <td>0</td>\n",
       "      <td>1</td>\n",
       "      <td>False</td>\n",
       "      <td>es</td>\n",
       "      <td>...</td>\n",
       "      <td>NaN</td>\n",
       "      <td>2020-08-17</td>\n",
       "      <td>0</td>\n",
       "      <td>0</td>\n",
       "      <td>0</td>\n",
       "      <td>0</td>\n",
       "      <td>0</td>\n",
       "      <td>0</td>\n",
       "      <td>0</td>\n",
       "      <td>0</td>\n",
       "    </tr>\n",
       "  </tbody>\n",
       "</table>\n",
       "<p>5 rows × 39 columns</p>\n",
       "</div>"
      ],
      "text/plain": [
       "   id_obs  coder_1  coder_2  consensus  sec_create_1  sec_create_2  \\\n",
       "0  101238        0        0        1.0            46            28   \n",
       "1  119343        0        0        1.0             8             6   \n",
       "2  122343        0        0        1.0             8             6   \n",
       "3  131878        0        0        1.0             4            52   \n",
       "4  132171        0        0        1.0             6            15   \n",
       "\n",
       "   sec_review_1  sec_review_2  possibly_sensitive lang  ...  THREAT  \\\n",
       "0            17             8               False   es  ...     NaN   \n",
       "1             0             2               False   es  ...     NaN   \n",
       "2             1             0               False   es  ...     NaN   \n",
       "3             0             1               False   es  ...     NaN   \n",
       "4             0             1               False   es  ...     NaN   \n",
       "\n",
       "         date tox_60  tox_70  tox_80  tox_90  insult_60  insult_70  insult_80  \\\n",
       "0  2020-08-17      0       0       0       0          0          0          0   \n",
       "1  2020-08-17      0       0       0       0          0          0          0   \n",
       "2  2020-08-17      0       0       0       0          0          0          0   \n",
       "3  2020-08-17      0       0       0       0          0          0          0   \n",
       "4  2020-08-17      0       0       0       0          0          0          0   \n",
       "\n",
       "   insult_90  \n",
       "0          0  \n",
       "1          0  \n",
       "2          0  \n",
       "3          0  \n",
       "4          0  \n",
       "\n",
       "[5 rows x 39 columns]"
      ]
     },
     "execution_count": 11,
     "metadata": {},
     "output_type": "execute_result"
    }
   ],
   "source": [
    "## Read Data\n",
    "training_data = pd.read_csv(\"hf://datasets/bgonzalezbustamante/toxicity-protests-ES/goldstd_protests.csv\") ## Overfitted\n",
    "test_data = pd.read_csv(\"hf://datasets/bgonzalezbustamante/toxicity-Constitution-ES/goldstd_Convention.csv\")\n",
    "training_data.head()"
   ]
  },
  {
   "cell_type": "code",
   "execution_count": 12,
   "id": "57b3dcf9-e473-4bfc-8a63-f95bfbe72de2",
   "metadata": {},
   "outputs": [
    {
     "data": {
      "text/html": [
       "<div>\n",
       "<style scoped>\n",
       "    .dataframe tbody tr th:only-of-type {\n",
       "        vertical-align: middle;\n",
       "    }\n",
       "\n",
       "    .dataframe tbody tr th {\n",
       "        vertical-align: top;\n",
       "    }\n",
       "\n",
       "    .dataframe thead th {\n",
       "        text-align: right;\n",
       "    }\n",
       "</style>\n",
       "<table border=\"1\" class=\"dataframe\">\n",
       "  <thead>\n",
       "    <tr style=\"text-align: right;\">\n",
       "      <th></th>\n",
       "      <th>id_obs</th>\n",
       "      <th>coder_1</th>\n",
       "      <th>coder_2</th>\n",
       "      <th>consensus</th>\n",
       "      <th>sec_create_1</th>\n",
       "      <th>sec_create_2</th>\n",
       "      <th>sec_review_1</th>\n",
       "      <th>sec_review_2</th>\n",
       "      <th>created_at</th>\n",
       "      <th>text</th>\n",
       "      <th>...</th>\n",
       "      <th>THREAT_EXPERIMENTAL</th>\n",
       "      <th>date</th>\n",
       "      <th>tox_60</th>\n",
       "      <th>tox_70</th>\n",
       "      <th>tox_80</th>\n",
       "      <th>tox_90</th>\n",
       "      <th>insult_60</th>\n",
       "      <th>insult_70</th>\n",
       "      <th>insult_80</th>\n",
       "      <th>insult_90</th>\n",
       "    </tr>\n",
       "  </thead>\n",
       "  <tbody>\n",
       "    <tr>\n",
       "      <th>0</th>\n",
       "      <td>4221</td>\n",
       "      <td>0</td>\n",
       "      <td>0</td>\n",
       "      <td>1</td>\n",
       "      <td>9</td>\n",
       "      <td>5</td>\n",
       "      <td>5</td>\n",
       "      <td>0</td>\n",
       "      <td>2021-09-01T20:35:50.000Z</td>\n",
       "      <td>@guillelarrain @bcentralchile @Jaime_Bassa @fe...</td>\n",
       "      <td>...</td>\n",
       "      <td>0.005544</td>\n",
       "      <td>2021-09-01</td>\n",
       "      <td>0</td>\n",
       "      <td>0</td>\n",
       "      <td>0</td>\n",
       "      <td>0</td>\n",
       "      <td>0</td>\n",
       "      <td>0</td>\n",
       "      <td>0</td>\n",
       "      <td>0</td>\n",
       "    </tr>\n",
       "    <tr>\n",
       "      <th>1</th>\n",
       "      <td>6373</td>\n",
       "      <td>0</td>\n",
       "      <td>0</td>\n",
       "      <td>1</td>\n",
       "      <td>11</td>\n",
       "      <td>5</td>\n",
       "      <td>4</td>\n",
       "      <td>0</td>\n",
       "      <td>2022-06-01T13:54:11.000Z</td>\n",
       "      <td>@AlGrano921 @rmorenoconcha @AgriculturaFM @gon...</td>\n",
       "      <td>...</td>\n",
       "      <td>0.005622</td>\n",
       "      <td>2022-06-01</td>\n",
       "      <td>0</td>\n",
       "      <td>0</td>\n",
       "      <td>0</td>\n",
       "      <td>0</td>\n",
       "      <td>0</td>\n",
       "      <td>0</td>\n",
       "      <td>0</td>\n",
       "      <td>0</td>\n",
       "    </tr>\n",
       "    <tr>\n",
       "      <th>2</th>\n",
       "      <td>13303</td>\n",
       "      <td>0</td>\n",
       "      <td>0</td>\n",
       "      <td>1</td>\n",
       "      <td>8</td>\n",
       "      <td>4</td>\n",
       "      <td>5</td>\n",
       "      <td>0</td>\n",
       "      <td>2021-01-07T01:35:33.000Z</td>\n",
       "      <td>@cherrerafe @bdelamaza Después Trump bloqueará...</td>\n",
       "      <td>...</td>\n",
       "      <td>0.005987</td>\n",
       "      <td>2021-01-07</td>\n",
       "      <td>0</td>\n",
       "      <td>0</td>\n",
       "      <td>0</td>\n",
       "      <td>0</td>\n",
       "      <td>0</td>\n",
       "      <td>0</td>\n",
       "      <td>0</td>\n",
       "      <td>0</td>\n",
       "    </tr>\n",
       "    <tr>\n",
       "      <th>3</th>\n",
       "      <td>18873</td>\n",
       "      <td>0</td>\n",
       "      <td>0</td>\n",
       "      <td>1</td>\n",
       "      <td>7</td>\n",
       "      <td>3</td>\n",
       "      <td>3</td>\n",
       "      <td>0</td>\n",
       "      <td>2021-07-04T15:58:37.000Z</td>\n",
       "      <td>@berfontaine @melnicksergio Q terrible.</td>\n",
       "      <td>...</td>\n",
       "      <td>0.005575</td>\n",
       "      <td>2021-07-04</td>\n",
       "      <td>0</td>\n",
       "      <td>0</td>\n",
       "      <td>0</td>\n",
       "      <td>0</td>\n",
       "      <td>0</td>\n",
       "      <td>0</td>\n",
       "      <td>0</td>\n",
       "      <td>0</td>\n",
       "    </tr>\n",
       "    <tr>\n",
       "      <th>4</th>\n",
       "      <td>21074</td>\n",
       "      <td>0</td>\n",
       "      <td>0</td>\n",
       "      <td>1</td>\n",
       "      <td>11</td>\n",
       "      <td>3</td>\n",
       "      <td>4</td>\n",
       "      <td>0</td>\n",
       "      <td>2022-03-03T12:39:46.000Z</td>\n",
       "      <td>@BRebolledoD17 Más gasto de dinero inutilmente</td>\n",
       "      <td>...</td>\n",
       "      <td>0.005461</td>\n",
       "      <td>2022-03-03</td>\n",
       "      <td>0</td>\n",
       "      <td>0</td>\n",
       "      <td>0</td>\n",
       "      <td>0</td>\n",
       "      <td>0</td>\n",
       "      <td>0</td>\n",
       "      <td>0</td>\n",
       "      <td>0</td>\n",
       "    </tr>\n",
       "  </tbody>\n",
       "</table>\n",
       "<p>5 rows × 25 columns</p>\n",
       "</div>"
      ],
      "text/plain": [
       "   id_obs  coder_1  coder_2  consensus  sec_create_1  sec_create_2  \\\n",
       "0    4221        0        0          1             9             5   \n",
       "1    6373        0        0          1            11             5   \n",
       "2   13303        0        0          1             8             4   \n",
       "3   18873        0        0          1             7             3   \n",
       "4   21074        0        0          1            11             3   \n",
       "\n",
       "   sec_review_1  sec_review_2                created_at  \\\n",
       "0             5             0  2021-09-01T20:35:50.000Z   \n",
       "1             4             0  2022-06-01T13:54:11.000Z   \n",
       "2             5             0  2021-01-07T01:35:33.000Z   \n",
       "3             3             0  2021-07-04T15:58:37.000Z   \n",
       "4             4             0  2022-03-03T12:39:46.000Z   \n",
       "\n",
       "                                                text  ... THREAT_EXPERIMENTAL  \\\n",
       "0  @guillelarrain @bcentralchile @Jaime_Bassa @fe...  ...            0.005544   \n",
       "1  @AlGrano921 @rmorenoconcha @AgriculturaFM @gon...  ...            0.005622   \n",
       "2  @cherrerafe @bdelamaza Después Trump bloqueará...  ...            0.005987   \n",
       "3            @berfontaine @melnicksergio Q terrible.  ...            0.005575   \n",
       "4     @BRebolledoD17 Más gasto de dinero inutilmente  ...            0.005461   \n",
       "\n",
       "         date  tox_60  tox_70  tox_80  tox_90 insult_60  insult_70  insult_80  \\\n",
       "0  2021-09-01       0       0       0       0         0          0          0   \n",
       "1  2022-06-01       0       0       0       0         0          0          0   \n",
       "2  2021-01-07       0       0       0       0         0          0          0   \n",
       "3  2021-07-04       0       0       0       0         0          0          0   \n",
       "4  2022-03-03       0       0       0       0         0          0          0   \n",
       "\n",
       "   insult_90  \n",
       "0          0  \n",
       "1          0  \n",
       "2          0  \n",
       "3          0  \n",
       "4          0  \n",
       "\n",
       "[5 rows x 25 columns]"
      ]
     },
     "execution_count": 12,
     "metadata": {},
     "output_type": "execute_result"
    }
   ],
   "source": [
    "test_data.head()"
   ]
  },
  {
   "cell_type": "code",
   "execution_count": 33,
   "id": "adf5c175-6956-400b-b920-6fa4650baafb",
   "metadata": {
    "scrolled": true
   },
   "outputs": [
    {
     "name": "stderr",
     "output_type": "stream",
     "text": [
      "Processing: 100%|██████████| 1000/1000 [00:20<00:00, 47.81it/s]"
     ]
    },
    {
     "name": "stdout",
     "output_type": "stream",
     "text": [
      "Time taken to classify: 0:00:20.916105\n"
     ]
    },
    {
     "name": "stderr",
     "output_type": "stream",
     "text": [
      "\n"
     ]
    }
   ],
   "source": [
    "## Progress bar\n",
    "progress_bar = tqdm(total=len(test_data), desc=\"Processing\")\n",
    "\n",
    "## List to store classification\n",
    "out_toxicity_1 = []\n",
    "\n",
    "## Time\n",
    "start_time = datetime.now()\n",
    "\n",
    "## Iterate and classify\n",
    "for text in test_data[\"text\"]:\n",
    "    result = toxic_classifier_1(text)\n",
    "    out_toxicity_1.append(result)\n",
    "    progress_bar.update(1)\n",
    "progress_bar.close()\n",
    "\n",
    "## Time\n",
    "end_time = datetime.now()\n",
    "print(\"Time taken to classify:\", end_time - start_time)\n",
    "\n",
    "## Merge\n",
    "flat_list_1 = [item for sublist in out_toxicity_1 for item in sublist]\n",
    "df = pd.DataFrame(flat_list_1)\n",
    "merged_tox_1 = pd.DataFrame(flat_list_1)"
   ]
  },
  {
   "cell_type": "code",
   "execution_count": 34,
   "id": "73ece46b-3ac3-49bd-a902-452bde64740a",
   "metadata": {},
   "outputs": [
    {
     "data": {
      "text/html": [
       "<div>\n",
       "<style scoped>\n",
       "    .dataframe tbody tr th:only-of-type {\n",
       "        vertical-align: middle;\n",
       "    }\n",
       "\n",
       "    .dataframe tbody tr th {\n",
       "        vertical-align: top;\n",
       "    }\n",
       "\n",
       "    .dataframe thead th {\n",
       "        text-align: right;\n",
       "    }\n",
       "</style>\n",
       "<table border=\"1\" class=\"dataframe\">\n",
       "  <thead>\n",
       "    <tr style=\"text-align: right;\">\n",
       "      <th></th>\n",
       "      <th>label</th>\n",
       "      <th>score</th>\n",
       "    </tr>\n",
       "  </thead>\n",
       "  <tbody>\n",
       "    <tr>\n",
       "      <th>0</th>\n",
       "      <td>NONTOXIC</td>\n",
       "      <td>0.868035</td>\n",
       "    </tr>\n",
       "    <tr>\n",
       "      <th>1</th>\n",
       "      <td>NONTOXIC</td>\n",
       "      <td>0.900176</td>\n",
       "    </tr>\n",
       "    <tr>\n",
       "      <th>2</th>\n",
       "      <td>NONTOXIC</td>\n",
       "      <td>0.667441</td>\n",
       "    </tr>\n",
       "    <tr>\n",
       "      <th>3</th>\n",
       "      <td>NONTOXIC</td>\n",
       "      <td>0.571407</td>\n",
       "    </tr>\n",
       "    <tr>\n",
       "      <th>4</th>\n",
       "      <td>NONTOXIC</td>\n",
       "      <td>0.870018</td>\n",
       "    </tr>\n",
       "  </tbody>\n",
       "</table>\n",
       "</div>"
      ],
      "text/plain": [
       "      label     score\n",
       "0  NONTOXIC  0.868035\n",
       "1  NONTOXIC  0.900176\n",
       "2  NONTOXIC  0.667441\n",
       "3  NONTOXIC  0.571407\n",
       "4  NONTOXIC  0.870018"
      ]
     },
     "execution_count": 34,
     "metadata": {},
     "output_type": "execute_result"
    }
   ],
   "source": [
    "merged_tox_1.head()"
   ]
  },
  {
   "cell_type": "code",
   "execution_count": 36,
   "id": "9c990f0a-4c28-417e-9d7a-85cdbb76158a",
   "metadata": {
    "scrolled": true
   },
   "outputs": [],
   "source": [
    "## Mapping labels\n",
    "merged_tox_1['label'] = merged_tox_1['label'].map({'NONTOXIC': 0, 'TOXIC': 1})\n",
    "# Ensure no NaN remains\n",
    "if merged_tox_1[\"label\"].isna().any():\n",
    "    print(\"Warning: There are NaN values in the 'label' column after mapping.\")"
   ]
  },
  {
   "cell_type": "code",
   "execution_count": 42,
   "id": "fa7bd9bf-363c-4ef8-b5bd-c1a62f751c67",
   "metadata": {},
   "outputs": [
    {
     "name": "stdout",
     "output_type": "stream",
     "text": [
      "Accuracy: 0.77 Precision: 0.8792792792792793 Recall 0.7496159754224271 F1-Score 0.8092868988391376\n"
     ]
    }
   ],
   "source": [
    "## Performance metrics\n",
    "accuracy = accuracy_score(test_data[\"coder_1\"], merged_tox_1[\"label\"])\n",
    "precision = precision_score(test_data[\"coder_1\"], merged_tox_1[\"label\"], average=\"binary\")\n",
    "recall = recall_score(test_data[\"coder_1\"], merged_tox_1[\"label\"], average=\"binary\")\n",
    "f1 = f1_score(test_data[\"coder_1\"], merged_tox_1[\"label\"], average=\"binary\")\n",
    "print(\"Accuracy:\", accuracy, \"Precision:\", precision, \"Recall\", recall, \"F1-Score\", f1)"
   ]
  },
  {
   "cell_type": "markdown",
   "id": "f1fcf4c2-3dac-44aa-9235-57abbafa5e55",
   "metadata": {},
   "source": [
    "## Ejercicio práctico\n",
    "1. Aplicar los otros dos clasificadores al test set y comparar performance.\n",
    "2. Evaluar el nivel de overfitting al aplicar los clasificadores en la data de protestas que ya es conocida para los modelos.\n",
    "3. ¿Es igual el F1 obtenido al clasificar la data de protesta al reportado en el entrenamiento de los modelos? Argumente.\n",
    "4. ¿Que otro average se podría utilizar para precision, recall y F1?"
   ]
  },
  {
   "cell_type": "code",
   "execution_count": null,
   "id": "cb5564ca-6102-4e50-8a21-06bf3fb23bd0",
   "metadata": {},
   "outputs": [],
   "source": []
  }
 ],
 "metadata": {
  "kernelspec": {
   "display_name": "Python 3 (ipykernel)",
   "language": "python",
   "name": "python3"
  },
  "language_info": {
   "codemirror_mode": {
    "name": "ipython",
    "version": 3
   },
   "file_extension": ".py",
   "mimetype": "text/x-python",
   "name": "python",
   "nbconvert_exporter": "python",
   "pygments_lexer": "ipython3",
   "version": "3.11.5"
  }
 },
 "nbformat": 4,
 "nbformat_minor": 5
}
